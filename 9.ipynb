{
 "cells": [
  {
   "cell_type": "code",
   "execution_count": 1,
   "id": "ccf256ed",
   "metadata": {},
   "outputs": [],
   "source": [
    "import numpy as np"
   ]
  },
  {
   "cell_type": "code",
   "execution_count": 2,
   "id": "95abb8d9",
   "metadata": {},
   "outputs": [],
   "source": [
    "matrix = np.load('PCA.npy')"
   ]
  },
  {
   "cell_type": "code",
   "execution_count": 4,
   "id": "eee4076b",
   "metadata": {},
   "outputs": [
    {
     "data": {
      "text/plain": [
       "(569, 43)"
      ]
     },
     "execution_count": 4,
     "metadata": {},
     "output_type": "execute_result"
    }
   ],
   "source": [
    "np.shape(matrix)"
   ]
  },
  {
   "cell_type": "code",
   "execution_count": 6,
   "id": "4ecfd6d8",
   "metadata": {},
   "outputs": [],
   "source": [
    "s, u, v = np.linalg.svd(matrix)"
   ]
  },
  {
   "cell_type": "code",
   "execution_count": 10,
   "id": "39f7f625",
   "metadata": {},
   "outputs": [
    {
     "data": {
      "text/plain": [
       "(43,)"
      ]
     },
     "execution_count": 10,
     "metadata": {},
     "output_type": "execute_result"
    }
   ],
   "source": [
    "np.shape(u)\n"
   ]
  },
  {
   "cell_type": "code",
   "execution_count": 15,
   "id": "3f2fc435",
   "metadata": {},
   "outputs": [],
   "source": [
    "def em(sing_values: np.array, m: int):\n",
    "    em = u[m:].sum()/u[:].sum()\n",
    "    return em"
   ]
  },
  {
   "cell_type": "code",
   "execution_count": 17,
   "id": "537e3202",
   "metadata": {
    "scrolled": true
   },
   "outputs": [
    {
     "name": "stdout",
     "output_type": "stream",
     "text": [
      "12\n",
      "13\n",
      "14\n",
      "15\n",
      "16\n",
      "17\n",
      "18\n",
      "19\n",
      "20\n",
      "21\n",
      "22\n",
      "23\n",
      "24\n",
      "25\n",
      "26\n",
      "27\n",
      "28\n",
      "29\n",
      "30\n",
      "31\n",
      "32\n",
      "33\n",
      "34\n",
      "35\n",
      "36\n",
      "37\n",
      "38\n",
      "39\n",
      "40\n",
      "41\n",
      "42\n"
     ]
    }
   ],
   "source": [
    "for index, sing_val in enumerate(u):\n",
    "    e = em(u, index)\n",
    "    if e < 0.2:\n",
    "        print(index)"
   ]
  },
  {
   "cell_type": "markdown",
   "id": "cf5aa5a2",
   "metadata": {},
   "source": [
    "**9**"
   ]
  },
  {
   "cell_type": "code",
   "execution_count": 89,
   "id": "d1974b55",
   "metadata": {},
   "outputs": [],
   "source": [
    "import pandas as pd\n",
    "import numpy as np\n",
    "import matplotlib.pyplot as plt\n",
    "from sklearn.cluster import KMeans"
   ]
  },
  {
   "cell_type": "code",
   "execution_count": 90,
   "id": "dd9763f6",
   "metadata": {},
   "outputs": [],
   "source": [
    "df = pd.read_csv('6.csv')\n",
    "colors_clusters = ['g', 'b', 'r', '#ff8243']"
   ]
  },
  {
   "cell_type": "code",
   "execution_count": 91,
   "id": "8f8b8bce",
   "metadata": {},
   "outputs": [
    {
     "data": {
      "text/plain": [
       "array([0, 1, 2], dtype=int64)"
      ]
     },
     "execution_count": 91,
     "metadata": {},
     "output_type": "execute_result"
    }
   ],
   "source": [
    "np.unique(df['class'])"
   ]
  },
  {
   "cell_type": "code",
   "execution_count": 92,
   "id": "109d3d14",
   "metadata": {},
   "outputs": [
    {
     "data": {
      "text/plain": [
       "<bound method NDFrame.head of      Unnamed: 0        a0        a1  class\n",
       "0             1 -1.513690  0.265446      0\n",
       "1             2 -1.603210  0.362039      0\n",
       "2             3 -1.699280 -0.384246      0\n",
       "3             4 -2.299290 -0.358038      0\n",
       "4             5 -1.634580 -0.129039      0\n",
       "..          ...       ...       ...    ...\n",
       "709         710  2.763780  0.291525      2\n",
       "710         711  1.534542 -0.221663      2\n",
       "711         712  2.302740  0.366262      2\n",
       "712         713  1.016068  0.213499      2\n",
       "713         714  1.561435 -0.170464      2\n",
       "\n",
       "[714 rows x 4 columns]>"
      ]
     },
     "execution_count": 92,
     "metadata": {},
     "output_type": "execute_result"
    }
   ],
   "source": [
    "df.head"
   ]
  },
  {
   "cell_type": "code",
   "execution_count": 93,
   "id": "86ba51e4",
   "metadata": {},
   "outputs": [],
   "source": [
    "class point:\n",
    "    def __init__(self, x, y):\n",
    "        self.x = x\n",
    "        self.y = y\n",
    "    def draw(self, color):\n",
    "        plt.scatter([self.x], [self.y], c=color)\n"
   ]
  },
  {
   "cell_type": "code",
   "execution_count": 94,
   "id": "cfc4b4f5",
   "metadata": {},
   "outputs": [
    {
     "data": {
      "image/png": "[encoded data removed]",
      "text/plain": [
       "<Figure size 432x288 with 1 Axes>"
      ]
     },
     "metadata": {
      "needs_background": "light"
     },
     "output_type": "display_data"
    }
   ],
   "source": [
    "for index, item in enumerate(df['a0']):\n",
    "    dot = point(df['a0'][index], df['a1'][index])\n",
    "    dot.draw(color=colors_clusters[df['class'][index]])"
   ]
  },
  {
   "cell_type": "code",
   "execution_count": 95,
   "id": "ed3c79dc",
   "metadata": {},
   "outputs": [],
   "source": [
    "points = []\n",
    "for index, item in enumerate(df['a0']):\n",
    "    p = point(df['a0'][index], df['a1'][index])\n",
    "    points.append(p)"
   ]
  },
  {
   "cell_type": "code",
   "execution_count": 98,
   "id": "97db8eb0",
   "metadata": {},
   "outputs": [],
   "source": [
    "X = [[p.x, p.y] for p in points]\n",
    "kmeans = KMeans(n_clusters=len(np.unique(df['class'])), random_state=0).fit(X)"
   ]
  },
  {
   "cell_type": "code",
   "execution_count": 99,
   "id": "a7834b75",
   "metadata": {},
   "outputs": [
    {
     "data": {
      "image/png": "[encoded data removed]",
      "text/plain": [
       "<Figure size 720x720 with 1 Axes>"
      ]
     },
     "metadata": {
      "needs_background": "light"
     },
     "output_type": "display_data"
    }
   ],
   "source": [
    "plt.figure(figsize=(10,10))\n",
    "\n",
    "for i,p in enumerate(X):\n",
    "  plt.scatter([p[0]], [p[1]], c=colors_clusters[kmeans.labels_[i]])"
   ]
  },
  {
   "cell_type": "code",
   "execution_count": 124,
   "id": "5b0ab0b7",
   "metadata": {},
   "outputs": [
    {
     "data": {
      "text/plain": [
       "array([0, 1, 2])"
      ]
     },
     "execution_count": 124,
     "metadata": {},
     "output_type": "execute_result"
    }
   ],
   "source": [
    "X = np.array([[1,2,3], [4,5,6], [7,8,9]])\n",
    "indices = []\n",
    "for i in range(0, np.shape(X)[0]*np.shape(X)[1]):\n",
    "    indices.append([np.random.choice([i for i in range(0, np.shape(X)[0])]), np.random.choice([i for i in range(0, np.shape(X)[1])])])\n",
    "np.unique(indices)"
   ]
  },
  {
   "cell_type": "code",
   "execution_count": 118,
   "id": "b487c1e3",
   "metadata": {},
   "outputs": [
    {
     "data": {
      "text/plain": [
       "9"
      ]
     },
     "execution_count": 118,
     "metadata": {},
     "output_type": "execute_result"
    }
   ],
   "source": [
    "np.shape(X)[0]*np.shape(X)[1]"
   ]
  },
  {
   "cell_type": "code",
   "execution_count": 119,
   "id": "f6da8091",
   "metadata": {},
   "outputs": [
    {
     "name": "stdout",
     "output_type": "stream",
     "text": [
      "0\n"
     ]
    }
   ],
   "source": [
    "\n",
    "np.append(xxx, (np.random.choice([i for i in range(0, np.shape(X)[0])]), np.random.choice([i for i in range(0, np.shape(X)[1])])))\n",
    "print(xxx)"
   ]
  },
  {
   "cell_type": "code",
   "execution_count": 120,
   "id": "f75afcaa",
   "metadata": {},
   "outputs": [
    {
     "data": {
      "text/plain": [
       "array(0)"
      ]
     },
     "execution_count": 120,
     "metadata": {},
     "output_type": "execute_result"
    }
   ],
   "source": [
    "xxx"
   ]
  },
  {
   "cell_type": "code",
   "execution_count": null,
   "id": "a3953472",
   "metadata": {},
   "outputs": [],
   "source": []
  }
 ],
 "metadata": {
  "kernelspec": {
   "display_name": "Python 3 (ipykernel)",
   "language": "python",
   "name": "python3"
  },
  "language_info": {
   "codemirror_mode": {
    "name": "ipython",
    "version": 3
   },
   "file_extension": ".py",
   "mimetype": "text/x-python",
   "name": "python",
   "nbconvert_exporter": "python",
   "pygments_lexer": "ipython3",
   "version": "3.10.0"
  }
 },
 "nbformat": 4,
 "nbformat_minor": 5
}
